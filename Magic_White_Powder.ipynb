{
 "cells": [
  {
   "cell_type": "code",
   "execution_count": 1,
   "metadata": {},
   "outputs": [],
   "source": [
    "%matplotlib inline\n",
    "import yfinance as yf\n",
    "import pandas as pd\n",
    "import os\n",
    "import matplotlib.pyplot as plt\n",
    "import seaborn; seaborn.set()\n",
    "from pandas_datareader import data as pdr\n",
    "import requests\n",
    "from datetime import datetime\n",
    "from bs4 import BeautifulSoup"
   ]
  },
  {
   "cell_type": "markdown",
   "metadata": {},
   "source": [
    "# Задание 1.\n",
    "\n",
    "Вы - менеджер по продажам в нефтехимической компании. Вы ведете несколько ключевых клиентов, которые закупают продукты вашей компании. Ваша компания запускает новый продукт - \"Волшебный белый порошок\" (ВБП), который по своим свойствам похож на тот, что уже есть на рынке. Ваши клиенты предпочитают формульный подход к ценообразованию. Вам нужно предложить клиентам формулу расчета цены на ВБП. В зависимости от объемов, которые покупают клиенты, им может быть предложена скидка.\n",
    "\n",
    "### Дополнительные вводные:\n",
    "\n",
    "Так как продукт Б новый, возможно стоит предложить дисконт от цены Продукта А. Продукт производиться из нефти. Один из известных способов производства предполагает что из 16 баррелей нефти сделают одну тонну ВБП, а затраты на производство в районе 400 евро."
   ]
  },
  {
   "cell_type": "code",
   "execution_count": 2,
   "metadata": {},
   "outputs": [],
   "source": [
    "# Из данных есть:\n",
    "# Цены на продукт А, который уже есть на рынке Европы\n",
    "# ----- октябрь 2018 - \n",
    "# ----- ноябрь 2018 - \n",
    "# ----- февраль 2019 -\n",
    "\n",
    "# Котировки нефти, курс eur/usd\n",
    "dbc = pd.read_excel('cur_oil.xlsx')\n",
    "\n",
    "# Затраты на производство\n",
    "PRODUCTION_COST = 400 # (EUR)\n",
    "\n",
    "# Расходы на логистику\n",
    "EU_LOGISTIC_COST_EUR = 30 # в Европу в евро\n",
    "CN_LOGISTIC_COST_USD = 130 # в Китай в долларах\n",
    "\n",
    "# * Справочная информация по клиентам(объемы, локации, комментарии) \n",
    "customers = {\n",
    "    'Monty':{\n",
    "        'location':'EU',\n",
    "        'volumes':200,\n",
    "        'comment':'moving_average'\n",
    "    },\n",
    "    \n",
    "    'Triangle':{\n",
    "        'location':'CN',\n",
    "        'volumes': 30,\n",
    "        'comment': 'monthly'\n",
    "    },\n",
    "    'Stone':{\n",
    "        'location':'EU',\n",
    "        'volumes': 150,\n",
    "        'comment': 'moving_average'\n",
    "    },\n",
    "    'Poly':{\n",
    "        'location':'EU',\n",
    "        'volumes': 70,\n",
    "        'comment': 'monthly'\n",
    "    },\n",
    "}\n",
    "# Скидки\n",
    "discounts = {'up to 100': 0.01, # 1%\n",
    "             'up to 300': 0.05, # 5%\n",
    "             '300 plus': 0.1}   #10%\n"
   ]
  },
  {
   "cell_type": "markdown",
   "metadata": {},
   "source": [
    "### Что нужно сделать?\n",
    "\n",
    "1. Проанализировать имеющиеся данные.\n",
    "2. Определить базовую формулу цены на условиях FCA (цена на заводе). То есть как бы выглядела цена на исторических данных.\n",
    "3. Отобразить на графике.\n",
    "4. Сделать расчет возможной цены по формуле для каждого из клиентов на условиях DDP (цена с доставкой). Записать все в один эксель файл, на разных листах. Каждый лист - название клиента.\n",
    "5. Предложить формулу цены каждому из клиентов на условиях DDP (цена с доставкой).\n",
    "- Создать директорию «для клиентов» и в ней сложить  файлы с расчетами.\n",
    "- Каждый клиент - отдельный файл (любой из docx, xlsx, pptx, pdf)  с именем клиента… \n",
    "\n",
    "### В результате должно быть 3 файла:\n",
    "1. Ноутбук с расчетами и графиками. \n",
    "2. Скрипт, который делает расчет цены для каждого клиента в одном файле\n",
    "2. Скрипт, который делает расчет цены для каждого клиента в отельном файле"
   ]
  },
  {
   "cell_type": "markdown",
   "metadata": {},
   "source": [
    "2. Определить базовую формулу цены на условиях FCA (цена на заводе). То есть как бы выглядела цена на исторических данных."
   ]
  },
  {
   "cell_type": "code",
   "execution_count": 3,
   "metadata": {},
   "outputs": [],
   "source": [
    "# базовая формула: price_per_tone = 16*(цена нефти, usd) + (затраты на производство, usd)\n",
    "def pricing(oil_price, eur_usd):\n",
    "    price = round(oil_price*16 + 400/eur_usd, 2)\n",
    "    return price"
   ]
  },
  {
   "cell_type": "code",
   "execution_count": 4,
   "metadata": {},
   "outputs": [],
   "source": [
    "price_hist = pd.DataFrame({'Date': dbc['Date'], 'EURUSD=X': dbc['EURUSD=X'], 'Product_price': pricing(dbc.OIL, dbc['EURUSD=X'])})"
   ]
  },
  {
   "cell_type": "markdown",
   "metadata": {},
   "source": [
    "3. Отобразить на графике."
   ]
  },
  {
   "cell_type": "code",
   "execution_count": 5,
   "metadata": {},
   "outputs": [
    {
     "data": {
      "text/plain": [
       "<AxesSubplot:>"
      ]
     },
     "execution_count": 5,
     "metadata": {},
     "output_type": "execute_result"
    },
    {
     "data": {
      "image/png": "[encoded data removed]",
      "text/plain": [
       "<Figure size 432x288 with 1 Axes>"
      ]
     },
     "metadata": {},
     "output_type": "display_data"
    }
   ],
   "source": [
    "price_hist['Product_price'].plot(x='Date')"
   ]
  },
  {
   "cell_type": "markdown",
   "metadata": {},
   "source": [
    "4. Сделать расчет возможной цены по формуле для каждого из клиентов на условиях DDP (цена с доставкой). Записать все в один эксель файл, на разных листах. Каждый лист - название клиента."
   ]
  },
  {
   "cell_type": "code",
   "execution_count": 6,
   "metadata": {
    "scrolled": true
   },
   "outputs": [
    {
     "name": "stderr",
     "output_type": "stream",
     "text": [
      "C:\\Anaconda3\\lib\\site-packages\\xlsxwriter\\workbook.py:336: UserWarning: Calling close() on already closed file.\n",
      "  warn(\"Calling close() on already closed file.\")\n"
     ]
    }
   ],
   "source": [
    "writer = pd.ExcelWriter('prices_for_clients.xlsx', engine='xlsxwriter')\n",
    "for customer in customers:\n",
    "    volume = customers[customer]['volumes']\n",
    "    if volume < 100:\n",
    "        disc = discounts['up to 100']\n",
    "    elif 100 <= volume < 300:\n",
    "        disc = discounts['up to 300']\n",
    "    else:\n",
    "        disc = discounts['300 plus']\n",
    "    if customers[customer]['location'] == 'EU':\n",
    "        temp_df =  pd.DataFrame({'Date': price_hist['Date'],\\\n",
    "                    'B_price': (price_hist['Product_price'] + EU_LOGISTIC_COST_EUR / price_hist['EURUSD=X'])*(1-disc)})\n",
    "        temp_df.to_excel(writer, sheet_name=f'{customer}', index=False)\n",
    "        \n",
    "    elif customers[customer]['location'] == 'CN':\n",
    "        temp_df =  pd.DataFrame({'Date': dbc['Date'],\\\n",
    "                    'B_price': price_hist['Product_price'] + CN_LOGISTIC_COST_USD})\n",
    "        temp_df.to_excel(writer, sheet_name=f'{customer}', index=False)\n",
    "writer.save()\n",
    "writer.close()"
   ]
  },
  {
   "cell_type": "markdown",
   "metadata": {},
   "source": [
    "5. Предложить формулу цены каждому из клиентов на условиях DDP (цена с доставкой).\n",
    "   - Создать директорию «для клиентов» и в ней сложить файлы с расчетами.\n",
    "   - Каждый клиент - отдельный файл (любой из docx, xlsx, pptx, pdf) с именем клиента…"
   ]
  },
  {
   "cell_type": "code",
   "execution_count": 7,
   "metadata": {},
   "outputs": [],
   "source": [
    "os.mkdir('для_клиентов')"
   ]
  },
  {
   "cell_type": "code",
   "execution_count": 8,
   "metadata": {},
   "outputs": [],
   "source": [
    "for customer in customers:\n",
    "    file_path = os.path.join('для_клиентов', f'{customer}.xlsx')\n",
    "    if customers[customer]['location'] == 'EU':\n",
    "        temp_df =  pd.DataFrame({'Date': price_hist['Date'],\\\n",
    "                    'B_price': price_hist['Product_price'] + EU_LOGISTIC_COST_EUR / price_hist['EURUSD=X']})\n",
    "        temp_df.to_excel(file_path, index=False)\n",
    "        \n",
    "    elif customers[customer]['location'] == 'CN':\n",
    "        temp_df =  pd.DataFrame({'Date': dbc['Date'],\\\n",
    "                    'B_price': price_hist['Product_price'] + CN_LOGISTIC_COST_USD})\n",
    "        temp_df.to_excel(file_path, index=False)"
   ]
  },
  {
   "cell_type": "markdown",
   "metadata": {},
   "source": [
    "# Задание 2. Продолжение"
   ]
  },
  {
   "cell_type": "markdown",
   "metadata": {},
   "source": [
    "Клиенты согласились на ваше предложение. \n",
    "Вам нужно сделать написать скрипт, с помощью которого можно автоматом рассчитывать цены для всех клиентов одновременно. \n",
    "Важный момент: данные для расчета скрипт должен подтягивать сам.\n",
    "\n",
    "В результате должно быть 3 файла\n",
    "1. Ноутбук с расчетами и графиками (чтобы данные подтягивались туда)\n",
    "2. Скрипт, который делает расчет цены для клиента (чтобы данные подтягивались туда сами)"
   ]
  },
  {
   "cell_type": "code",
   "execution_count": 9,
   "metadata": {},
   "outputs": [],
   "source": [
    "class Pricer():\n",
    "    def __init__(self, customers, discounts, eu_log_cost, cn_log_cost, prod_cost):\n",
    "        self.customers = customers\n",
    "        self.discounts = discounts\n",
    "        self.eu_log_cost = eu_log_cost\n",
    "        self.cn_log_cost = cn_log_cost\n",
    "        self.prod_cost = prod_cost\n",
    "        self.urls = {'oil': 'https://quote.rbc.ru/ticker/181206',\n",
    "                     'eur/usd': 'https://quote.rbc.ru/ticker/59087'}\n",
    "        \n",
    "    # Статический метод для избежания дублирования кода в методах get_oil_price и get_eur_usd\n",
    "    @staticmethod\n",
    "    def parser(url):\n",
    "        response = requests.get(url)\n",
    "        soup = BeautifulSoup(response.text, 'lxml')\n",
    "        return soup\n",
    "    \n",
    "    # метод получает стоимость нефти\n",
    "    def get_oil_price(self):\n",
    "        oil_price = self.parser(self.urls['oil']).find('span', class_='chart__info__sum').text\n",
    "        oil_price = oil_price[1:]\n",
    "        oil_price = float('.'.join(oil_price.split(',')))\n",
    "        return oil_price\n",
    "    \n",
    "    # метод получает курс eur/usd\n",
    "    def get_eur_usd(self):\n",
    "        eur_usd = self.parser(self.urls['eur/usd']).find('span', class_='chart__info__sum').text\n",
    "        eur_usd = eur_usd[1:]\n",
    "        eur_usd = float('.'.join(eur_usd.split(',')))\n",
    "        return eur_usd\n",
    "    \n",
    "    # метод добавляет скидку в словарь покупателей\n",
    "    def get_discount(self):\n",
    "        for customer in self.customers:\n",
    "            try:\n",
    "                if self.customers[customer]['volumes'] < 100:\n",
    "                    self.customers[customer]['dicount'] = 1 - self.discounts['up to 100']\n",
    "                elif self.customers[customer]['volumes'] < 300:\n",
    "                    self.customers[customer]['dicount'] = 1 - self.discounts['up to 300']\n",
    "                else:\n",
    "                    self.customers[customer]['dicount'] = 1 - self.discounts['300 plus']\n",
    "            except:\n",
    "                self.customers[customer]['dicount'] = 1\n",
    "    \n",
    "    # метод расчитывает цены для всех покупателей\n",
    "    def pricing(self):\n",
    "        prices = dict()\n",
    "        try:\n",
    "            eur_usd = self.get_eur_usd()\n",
    "        except:\n",
    "            err = 'Курс eur/usd недоступен'\n",
    "            return err\n",
    "        try:\n",
    "            oil_price = self.get_oil_price()\n",
    "        except:\n",
    "            err = 'Цена нефти недоступна'\n",
    "            return err\n",
    "        self.get_discount()\n",
    "        for customer in self.customers:\n",
    "            try:\n",
    "                location = self.customers[customer]['location']\n",
    "            except KeyError:\n",
    "                location = None\n",
    "            if location == 'EU':\n",
    "                price = (16 * oil_price + self.eu_log_cost * eur_usd + self.prod_cost * eur_usd) * self.customers[customer]['dicount']\n",
    "                price = round(price * eur_usd, 2)\n",
    "                prices[customer] = f'{price} EUR'\n",
    "            elif location == 'CN':\n",
    "                price = (16 * oil_price + self.cn_log_cost + self.prod_cost) * self.customers[customer]['dicount']\n",
    "                price = round(price, 2)\n",
    "                prices[customer] = f'{price} USD'\n",
    "            else:\n",
    "                prices[customer] = f'Нет данных о расположении Клиента' \n",
    "        return prices"
   ]
  },
  {
   "cell_type": "code",
   "execution_count": 10,
   "metadata": {},
   "outputs": [
    {
     "data": {
      "text/plain": [
       "{'Monty': '2023.61 EUR',\n",
       " 'Triangle': '1850.82 USD',\n",
       " 'Stone': '2023.61 EUR',\n",
       " 'Poly': '2108.81 EUR'}"
      ]
     },
     "execution_count": 10,
     "metadata": {},
     "output_type": "execute_result"
    }
   ],
   "source": [
    "test = Pricer(customers, discounts, EU_LOGISTIC_COST_EUR, CN_LOGISTIC_COST_USD, PRODUCTION_COST)\n",
    "test.pricing()"
   ]
  },
  {
   "cell_type": "markdown",
   "metadata": {},
   "source": [
    "# Задание 3. Back to Russia\n",
    "\n",
    "К вам пришел новый клиент из России. Который использует продукт А и готов регулярно закупать ВБП для того, чтобы не быть привязанным к одному поставщику. Клиент готов забирать ВБП с завода самостоятельно.\n",
    "1. На основе тех данных, которые уже есть предложите цену новому клиенту. \n",
    "2. Подготовьте скрипт, который будет использовать курс публикуемый на <a href='http://www.cbr.ru/currency_base/dynamics/'> сайте ЦБ РФ</a>.\n"
   ]
  },
  {
   "cell_type": "code",
   "execution_count": 11,
   "metadata": {},
   "outputs": [
    {
     "data": {
      "text/plain": [
       "'Цена ВБП на условиях FCA для нового клиента из Росиии: 120279.8 рублей'"
      ]
     },
     "execution_count": 11,
     "metadata": {},
     "output_type": "execute_result"
    }
   ],
   "source": [
    "# получаем дату для запроса к ЦБ\n",
    "date = datetime.now()\n",
    "\n",
    "if date.day < 10:\n",
    "    d = '0' + str(date.day)\n",
    "else:\n",
    "    d = str(date.day)\n",
    "\n",
    "if date.month < 10:\n",
    "    m = '0' + str(date.month)\n",
    "else:\n",
    "    m = str(date.month)\n",
    "\n",
    "y = str(date.year)\n",
    "\n",
    "# запрос к ЦБ\n",
    "url = 'https://cbr.ru/scripts/XML_daily.asp?'\n",
    "params = {'date_req': f'{d}/{m}/{y}'}\n",
    "\n",
    "response = requests.get(url, params)\n",
    "soup = BeautifulSoup(response.content,'xml')\n",
    "usd_rub = soup.find(ID='R01235').Value.string\n",
    "\n",
    "usd_rub = float('.'.join(usd_rub.split(',')))\n",
    "\n",
    "# подтягиваем стоимость нефти\n",
    "url = 'https://quote.rbc.ru/ticker/181206'\n",
    "response = requests.get(url)\n",
    "soup = BeautifulSoup(response.text, 'lxml')\n",
    "oil_price = soup.find('span', class_='chart__info__sum').text\n",
    "oil_price = oil_price[1:]\n",
    "oil_price = float('.'.join(oil_price.split(',')))\n",
    "\n",
    "# # подтягиваем курс eur/usd\n",
    "url = 'https://quote.rbc.ru/ticker/59087'\n",
    "response = requests.get(url)\n",
    "soup = BeautifulSoup(response.text, 'lxml')\n",
    "eur_usd = soup.find('span', class_='chart__info__sum').text\n",
    "eur_usd = eur_usd[1:]\n",
    "eur_usd = float('.'.join(eur_usd.split(',')))\n",
    "\n",
    "price = round(pricing(oil_price, eur_usd) * usd_rub, 2)\n",
    "f'Цена ВБП на условиях FCA для нового клиента из Росиии: {price} рублей'"
   ]
  },
  {
   "cell_type": "markdown",
   "metadata": {},
   "source": [
    "# Задание 4. Check it"
   ]
  },
  {
   "cell_type": "markdown",
   "metadata": {},
   "source": [
    "* Подумайте, как можно проверить корректность работы алгоритма? \n",
    "* Какие возможны ошибки?\n",
    "* Придумайте тесты для проверки возможных ошибок алгоритма\n",
    "* Интергрируйте их в свои скрипты в виде исключений\n"
   ]
  },
  {
   "cell_type": "code",
   "execution_count": 12,
   "metadata": {},
   "outputs": [],
   "source": [
    "# Ошибки получения стоиомтси нефти и курсов валют.\n",
    "# В метод pricing класса Pricer() включены блоки try/except\n",
    "\n",
    "# Ошибки в словаре с Клиентами. В методы discount, pricing класса Pricer() включен блок try/except"
   ]
  },
  {
   "cell_type": "markdown",
   "metadata": {},
   "source": [
    "# Задание 5. Поделись с ближним"
   ]
  },
  {
   "cell_type": "markdown",
   "metadata": {},
   "source": [
    "Вы решили пойти в отпуск на время вашего отсутствия вас будет заменять коллега. Он будет заниматься рассчетом цен для клиентов. Чтобы ему было проще вам нужно завернуть ваши скрипты в модуль, который будет запускать у себя коллега."
   ]
  },
  {
   "cell_type": "markdown",
   "metadata": {},
   "source": [
    "* Создайте модуль, который можно запускать в ноутбуке подкладывая в ту же директорию\n",
    "* Хорошенько задокументируйте ВСЁ, но помните о PEP8"
   ]
  },
  {
   "cell_type": "code",
   "execution_count": 13,
   "metadata": {},
   "outputs": [],
   "source": [
    "# сам пакет в отдельном файле mypackage.py\n",
    "import mypackage"
   ]
  },
  {
   "cell_type": "code",
   "execution_count": 14,
   "metadata": {},
   "outputs": [
    {
     "data": {
      "text/plain": [
       "{'Monty': '2023.61 EUR',\n",
       " 'Triangle': '1850.82 USD',\n",
       " 'Stone': '2023.61 EUR',\n",
       " 'Poly': '2108.81 EUR',\n",
       " 'Doly': 'Нет данных о расположении Клиента'}"
      ]
     },
     "execution_count": 14,
     "metadata": {},
     "output_type": "execute_result"
    }
   ],
   "source": [
    "# Затраты на производство\n",
    "PRODUCTION_COST = 400 # (EUR)\n",
    "\n",
    "EU_LOGISTIC_COST_EUR = 30 # в Европу в евро\n",
    "CN_LOGISTIC_COST_USD = 130 # в Китай в долларах\n",
    "\n",
    "customers = {\n",
    "    'Monty':{\n",
    "        'location':'EU',\n",
    "        'volumes':200,\n",
    "        'comment':'moving_average'\n",
    "    },\n",
    "    \n",
    "    'Triangle':{\n",
    "        'location':'CN',\n",
    "        'volumes': 30,\n",
    "        'comment': 'monthly'\n",
    "    },\n",
    "    'Stone':{\n",
    "        'location':'EU',\n",
    "        'volumes': 150,\n",
    "        'comment': 'moving_average'\n",
    "    },\n",
    "    'Poly':{\n",
    "        'location':'EU',\n",
    "        'volumes': 70,\n",
    "        'comment': 'monthly'\n",
    "    },\n",
    "    'Doly':{\n",
    "#         'location':'EU',\n",
    "        'volumes': 70,\n",
    "        'comment': 'monthly'\n",
    "    }\n",
    "}\n",
    "# Скидки\n",
    "discounts = {'up to 100': 0.01, # 1%\n",
    "             'up to 300': 0.05, # 5%\n",
    "             '300 plus': 0.1}   #10%\n",
    "\n",
    "pricer = mypackage.Pricer(customers, discounts, EU_LOGISTIC_COST_EUR, CN_LOGISTIC_COST_USD, PRODUCTION_COST)\n",
    "pricer.pricing()"
   ]
  },
  {
   "cell_type": "markdown",
   "metadata": {},
   "source": [
    "# Задание 6. Поделись пакетом"
   ]
  },
  {
   "cell_type": "markdown",
   "metadata": {},
   "source": [
    "Ваши коллеги узнали, что вы быстро рассчитываете цены для формульных контрактов, и решили использовать такую же практику для своих продуктов и клиентов. Вам нужно создать пакет, чтобы его было проще устанавливать и использовать."
   ]
  },
  {
   "cell_type": "markdown",
   "metadata": {},
   "source": [
    "* Создайте отдельный пакет, который можно устанавливать с помощью pip \n",
    "* В пакете должны быть реализованы функции для рассчета цен по формульным контрактам\n",
    "* Выложите пакет в репозиторий"
   ]
  },
  {
   "cell_type": "code",
   "execution_count": 15,
   "metadata": {},
   "outputs": [
    {
     "name": "stdout",
     "output_type": "stream",
     "text": [
      "Processing c:\\users\\артур\\documents\\geekbrains\\!sber\\reboot\\1. python\\lesson3\\hometask\\test_package\\dist\\test_white_pouder-1.0.tar.gz\n",
      "Building wheels for collected packages: test-white-pouder\n",
      "  Building wheel for test-white-pouder (setup.py): started\n",
      "  Building wheel for test-white-pouder (setup.py): finished with status 'done'\n",
      "  Created wheel for test-white-pouder: filename=test_white_pouder-1.0-py3-none-any.whl size=3219 sha256=83221d185f2a0518cec991dd4e6e1ce279817bb6b637b1e7cffcbde5a6471f3d\n",
      "  Stored in directory: c:\\users\\артур\\appdata\\local\\pip\\cache\\wheels\\3f\\af\\30\\ed6c75973d17ebbaf77132465cdcac700cca75f3d3cc74575a\n",
      "Successfully built test-white-pouder\n",
      "Installing collected packages: test-white-pouder\n",
      "  Attempting uninstall: test-white-pouder\n",
      "    Found existing installation: test-white-pouder 1.0\n",
      "    Uninstalling test-white-pouder-1.0:\n",
      "      Successfully uninstalled test-white-pouder-1.0\n",
      "Successfully installed test-white-pouder-1.0\n"
     ]
    },
    {
     "name": "stderr",
     "output_type": "stream",
     "text": [
      "DEPRECATION: Source distribution is being reinstalled despite an installed package having the same name and version as the installed package. pip 21.1 will remove support for this functionality. A possible replacement is use --force-reinstall. You can find discussion regarding this at https://github.com/pypa/pip/issues/8711.\n"
     ]
    }
   ],
   "source": [
    "!pip install test_package\\dist\\test_white_pouder-1.0.tar.gz"
   ]
  },
  {
   "cell_type": "code",
   "execution_count": 16,
   "metadata": {},
   "outputs": [
    {
     "data": {
      "text/plain": [
       "1510.44"
      ]
     },
     "execution_count": 16,
     "metadata": {},
     "output_type": "execute_result"
    }
   ],
   "source": [
    "from test_white_pouder import mwp\n",
    "\n",
    "mwp.pricing(85, 1.13, 170)"
   ]
  }
 ],
 "metadata": {
  "kernelspec": {
   "display_name": "Python 3",
   "language": "python",
   "name": "python3"
  },
  "language_info": {
   "codemirror_mode": {
    "name": "ipython",
    "version": 3
   },
   "file_extension": ".py",
   "mimetype": "text/x-python",
   "name": "python",
   "nbconvert_exporter": "python",
   "pygments_lexer": "ipython3",
   "version": "3.8.8"
  }
 },
 "nbformat": 4,
 "nbformat_minor": 2
}
