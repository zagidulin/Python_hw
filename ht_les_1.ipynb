{
 "cells": [
  {
   "cell_type": "code",
   "execution_count": null,
   "metadata": {},
   "outputs": [],
   "source": [
    "# 1. Посмотрите видео Дэвида Бизли про всроенные инструменты Python\n",
    "# 2. Попробуйте используя встроенные инструменты Python проанализировать таблицу из файла \"Vacancy.csv\"\n",
    "# 3. Попробуйте ответить на вопросы:\n",
    "# Сколько вакансий, которые вам нравятся?\n",
    "# Насколько свежие эти вакансии?\n",
    "# Сколько вакансий с позициями на которых вы работаете?\n",
    "# Сколько вакансий для аналатика данных?\n",
    "# Сколько вакансий для аналитика данных с использованием Python?\n",
    "\n",
    "# В задании важно не использовать pandas и numpy, а встроенные инструменты python\n",
    "# Counter, CSV, defaultdict, sorted"
   ]
  },
  {
   "cell_type": "code",
   "execution_count": 1,
   "metadata": {},
   "outputs": [],
   "source": [
    "import csv"
   ]
  },
  {
   "cell_type": "code",
   "execution_count": 2,
   "metadata": {},
   "outputs": [],
   "source": [
    "from datetime import date, timedelta"
   ]
  },
  {
   "cell_type": "code",
   "execution_count": 3,
   "metadata": {},
   "outputs": [],
   "source": [
    "from collections import Counter, defaultdict, namedtuple"
   ]
  },
  {
   "cell_type": "code",
   "execution_count": 4,
   "metadata": {
    "scrolled": true
   },
   "outputs": [
    {
     "data": {
      "text/plain": [
       "131072"
      ]
     },
     "execution_count": 4,
     "metadata": {},
     "output_type": "execute_result"
    }
   ],
   "source": [
    "# привязка к sys.maxsize выдаёт ошибку Overflow, установил вручную\n",
    "csv.field_size_limit(92233720)"
   ]
  },
  {
   "cell_type": "code",
   "execution_count": 5,
   "metadata": {},
   "outputs": [],
   "source": [
    "vacs = list(csv.DictReader(open('Vacancy.csv', encoding = 'utf-8')))"
   ]
  },
  {
   "cell_type": "code",
   "execution_count": 6,
   "metadata": {},
   "outputs": [],
   "source": [
    "for vac in vacs:\n",
    "    del(vac['vachtml'])"
   ]
  },
  {
   "cell_type": "code",
   "execution_count": 8,
   "metadata": {},
   "outputs": [],
   "source": [
    "# Выбираем в отдельный список все вакансии в описании, которых указан python, а в названии нет java\n",
    "python_vacs = [vac for vac in vacs \n",
    "                   if 'python' in vac['vacdescription'].lower() or 'python' in vac['vactitle'].lower() \n",
    "                   and 'java' not in vac['vactitle'].lower()]\n",
    "titels = [vac['vactitle'] for vac in python_vacs]"
   ]
  },
  {
   "cell_type": "markdown",
   "metadata": {},
   "source": [
    "# 1. Сколько вакансий, которые вам нравятся?"
   ]
  },
  {
   "cell_type": "code",
   "execution_count": 9,
   "metadata": {},
   "outputs": [
    {
     "data": {
      "text/plain": [
       "76"
      ]
     },
     "execution_count": 9,
     "metadata": {},
     "output_type": "execute_result"
    }
   ],
   "source": [
    "nice_vacs = {}\n",
    "Vacinfo = namedtuple('Vacinfo', ['date', 'desc'])\n",
    "\n",
    " \n",
    "for vac in python_vacs:\n",
    "    title = vac['vactitle'].lower()\n",
    "    # Исключаем вакансии руководителей, главных/senior специалистов. Middle, пожалуй, оставим =)\n",
    "    if 'главный' in title or 'senior' in title:\n",
    "        if 'ведущий' in title or 'middle' in title:\n",
    "            pass\n",
    "        else:\n",
    "            continue\n",
    "    elif 'руководитель' in title:\n",
    "        continue\n",
    "    # Отбираем аналитиков и инженеров данных\n",
    "    elif 'data engineer' in title or 'analyst' in title or 'аналитик' in title:\n",
    "        nice_vacs[vac['vactitle']] = Vacinfo(vac['vacdate'], vac['vacdescription'])\n",
    "\n",
    "# количество всех потенциальных\n",
    "len(nice_vacs)\n",
    "\n",
    "# 76"
   ]
  },
  {
   "cell_type": "markdown",
   "metadata": {},
   "source": [
    "# Насколько свежие эти вакансии?"
   ]
  },
  {
   "cell_type": "code",
   "execution_count": 10,
   "metadata": {},
   "outputs": [
    {
     "data": {
      "text/plain": [
       "(datetime.timedelta(days=221), datetime.timedelta(days=370))"
      ]
     },
     "execution_count": 10,
     "metadata": {},
     "output_type": "execute_result"
    }
   ],
   "source": [
    "# смотрим свежесть в днях относительно текущей даты\n",
    "vac_dates = sorted([date.today() - date.fromisoformat(nice_vacs[vac].date) for vac in nice_vacs])\n",
    "vac_dates[0], vac_dates[-1]\n",
    "\n",
    "# самая свежая опубликована 221 день назад"
   ]
  },
  {
   "cell_type": "markdown",
   "metadata": {},
   "source": [
    "# Сколько вакансий с позициями на которых вы работаете?"
   ]
  },
  {
   "cell_type": "code",
   "execution_count": 11,
   "metadata": {},
   "outputs": [
    {
     "data": {
      "text/plain": [
       "1"
      ]
     },
     "execution_count": 11,
     "metadata": {},
     "output_type": "execute_result"
    }
   ],
   "source": [
    "# Отбираем вакансии, соответствующие текущей позиции - \"ведущий специалист отдела оценки залогового имущества\"\n",
    "my_vacs = [vac for vac in vacs if 'оценке залогов' in vac['vactitle'].lower() and 'ведущи' in vac['vactitle'].lower()]\n",
    "len(my_vacs)\n",
    "\n",
    "# 1"
   ]
  },
  {
   "cell_type": "markdown",
   "metadata": {},
   "source": [
    "# Сколько вакансий для аналатика данных?"
   ]
  },
  {
   "cell_type": "code",
   "execution_count": 12,
   "metadata": {
    "scrolled": true
   },
   "outputs": [
    {
     "data": {
      "text/plain": [
       "50"
      ]
     },
     "execution_count": 12,
     "metadata": {},
     "output_type": "execute_result"
    }
   ],
   "source": [
    "da_vacs = Counter()\n",
    "# список ключевых слов для удобства изменения параматров поиска\n",
    "key_words = ['analyst', 'аналитик данных']\n",
    "\n",
    "# отбираем вакансии по ключевым словам \n",
    "for vac in vacs:\n",
    "    for i in key_words:\n",
    "        if i in vac['vactitle'].lower():\n",
    "            da_vacs.update([vac['vactitle'].lower()])\n",
    "    \n",
    "\n",
    "# количество всех вакансий аналитиков\n",
    "# по документации должно работать da_vacs.total() в python 3.10, но у меня пока 3.8\n",
    "sum(da_vacs.values())\n",
    "\n",
    "# итого 50"
   ]
  },
  {
   "cell_type": "markdown",
   "metadata": {},
   "source": [
    "# Сколько вакансий для аналитика данных с использованием Python? "
   ]
  },
  {
   "cell_type": "code",
   "execution_count": 13,
   "metadata": {},
   "outputs": [
    {
     "data": {
      "text/plain": [
       "28"
      ]
     },
     "execution_count": 13,
     "metadata": {},
     "output_type": "execute_result"
    }
   ],
   "source": [
    "da_python_vacs = Counter()\n",
    "\n",
    "# отбираем вакансии по ключевым словам: 'analyst', 'аналитик данных'\n",
    "for vac in vacs:\n",
    "    for i in key_words:\n",
    "        if i in vac['vactitle'].lower() and 'python' in vac['vacdescription'].lower():\n",
    "            da_python_vacs.update([vac['vactitle'].lower()])\n",
    "    \n",
    "\n",
    "# количество всех вакансий аналитиков с \"python\" в описании или названии вакансии\n",
    "sum(da_python_vacs.values())\n",
    "\n",
    "# итого 28"
   ]
  }
 ],
 "metadata": {
  "kernelspec": {
   "display_name": "Python 3",
   "language": "python",
   "name": "python3"
  },
  "language_info": {
   "codemirror_mode": {
    "name": "ipython",
    "version": 3
   },
   "file_extension": ".py",
   "mimetype": "text/x-python",
   "name": "python",
   "nbconvert_exporter": "python",
   "pygments_lexer": "ipython3",
   "version": "3.8.8"
  }
 },
 "nbformat": 4,
 "nbformat_minor": 4
}
