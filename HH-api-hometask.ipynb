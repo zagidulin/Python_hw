{
 "cells": [
  {
   "cell_type": "code",
   "execution_count": 1,
   "metadata": {},
   "outputs": [],
   "source": [
    "import requests\n",
    "import time\n",
    "import pandas as pd"
   ]
  },
  {
   "cell_type": "code",
   "execution_count": 2,
   "metadata": {},
   "outputs": [],
   "source": [
    "url = 'https://api.hh.ru/specializations'"
   ]
  },
  {
   "cell_type": "code",
   "execution_count": 3,
   "metadata": {},
   "outputs": [],
   "source": [
    "res = requests.get(url)\n",
    "specializations = res.json()"
   ]
  },
  {
   "cell_type": "code",
   "execution_count": 4,
   "metadata": {},
   "outputs": [],
   "source": [
    "# создаём список id специализаций для обхода ограничения HH в выдаче 2000 items в списке\n",
    "specialization_ids = []\n",
    "for i in specializations:\n",
    "    for j in i['specializations']:\n",
    "        specialization_ids.append(j['id'])"
   ]
  },
  {
   "cell_type": "code",
   "execution_count": 5,
   "metadata": {},
   "outputs": [],
   "source": [
    "sber = '3529'\n",
    "page = 1\n",
    "num_per_page = 100\n",
    "moscow = 1"
   ]
  },
  {
   "cell_type": "code",
   "execution_count": 6,
   "metadata": {},
   "outputs": [],
   "source": [
    "# получаем id вакансий для каждой из специализаций\n",
    "all_vacancy_ids = []\n",
    "for i in specialization_ids:\n",
    "    url = f'https://api.hh.ru/vacancies?employer_id={sber}&page={page}&per_page={num_per_page}&area={moscow}&specialization={i}'\n",
    "    res = requests.get(url)\n",
    "    vacancies = res.json()\n",
    "    for j in range(vacancies.get('pages')):\n",
    "        url = f'https://api.hh.ru/vacancies?employer_id={sber}&page={j}&per_page={num_per_page}&area={moscow}&specialization={i}'\n",
    "        res = requests.get(url)\n",
    "        vacancies = res.json()\n",
    "        vacancy_ids = [el.get('id') for el in vacancies.get('items')]\n",
    "        all_vacancy_ids.extend(vacancy_ids)"
   ]
  },
  {
   "cell_type": "code",
   "execution_count": 7,
   "metadata": {},
   "outputs": [],
   "source": [
    "# избавляемся от дублей (вакансии в нескольких специализациях)\n",
    "all_vacancy_ids = set(all_vacancy_ids)\n",
    "del test\n",
    "len(all_vacancy_ids)"
   ]
  },
  {
   "cell_type": "code",
   "execution_count": 8,
   "metadata": {},
   "outputs": [],
   "source": [
    "# список с ключами, которые запрашивать из данных HH по вакансии\n",
    "keys = [\"id\", \"name\", \"salary\", \"experience\", \"schedule\", \"employment\", \"description\", \"key_skills\", \"published_at\", \"created_at\", \"alternate_url\"]"
   ]
  },
  {
   "cell_type": "code",
   "execution_count": 10,
   "metadata": {},
   "outputs": [],
   "source": [
    "# записываем в файл заголовок данных\n",
    "with open('data.csv', mode='a', encoding='utf-8') as f:\n",
    "    string = ''\n",
    "    for i in keys:\n",
    "        string += i + '~'\n",
    "    f.write(string[:-1])"
   ]
  },
  {
   "cell_type": "code",
   "execution_count": 11,
   "metadata": {},
   "outputs": [],
   "source": [
    "# запись данных в файл\n",
    "with open('data.csv', mode='a', encoding='utf-8') as f:\n",
    "    for vac_id in all_vacancy_ids:\n",
    "        url = f'https://api.hh.ru/vacancies/{vac_id}'\n",
    "        res = requests.get(url)\n",
    "        vacancy = res.json()\n",
    "        string = ''\n",
    "        for key in keys:\n",
    "        # обработка данных зависит от типа данных            \n",
    "            if isinstance(vacancy[key], dict):\n",
    "                if key == 'salary':\n",
    "                    val = str(vacancy[key]['from']) + '~'\n",
    "                else:\n",
    "                    val = str(vacancy[key]['name']) + '~'                \n",
    "            elif vacancy[key] and isinstance(vacancy[key], list):\n",
    "                val = ''\n",
    "                for i in vacancy[key]:\n",
    "                    if isinstance(i, dict):\n",
    "                        val = str(i['name']) + ','\n",
    "                    else:\n",
    "                        val = str(i) + ','\n",
    "                val += '~'\n",
    "            elif vacancy[key]:\n",
    "                val = str(vacancy[key]) + '~'\n",
    "            else:\n",
    "                val = 'empty' + '~'\n",
    "            string += val\n",
    "        string = string[:-1] + '\\n'\n",
    "        f.write(string)\n",
    "        time.sleep(0.05)"
   ]
  },
  {
   "cell_type": "markdown",
   "metadata": {},
   "source": [
    "#Задание вытащить все вакансии СБЕРа с ХХ (у апи есть ограничение в 2000, подумайте как его обойти) +\n",
    "#Вытащите все полные описания этих вакансий по запросу с https://api.hh.ru/vacancies/43326020 где 43326020 id вакансии +\n",
    "#Создайте аналогичный vacancy DataFrame только добавьте поле skills +\n",
    "#Переведите даты публикаций в datetime +\n",
    "#Постройте график опубликованных вакансий по датам\n",
    "#Переведите даты в дни недели, и определите день недели, в который больше всего публикуют вакансий\n",
    "#Найдите те вакансии с использованием python, которые вам интересны\n",
    "#Определите по полю skills какие навыки больше всего востребованы для этих вакансий, и\n",
    "#Постройте график наиболее востребованных вакансий"
   ]
  },
  {
   "cell_type": "markdown",
   "metadata": {},
   "source": [
    "# Создайте аналогичный vacancy DataFrame только добавьте поле skills"
   ]
  },
  {
   "cell_type": "code",
   "execution_count": 12,
   "metadata": {},
   "outputs": [],
   "source": [
    "vacancy = pd.read_csv('data.csv', sep=\"~\")"
   ]
  },
  {
   "cell_type": "markdown",
   "metadata": {},
   "source": [
    "# Переведите даты публикаций в datetime"
   ]
  },
  {
   "cell_type": "code",
   "execution_count": 13,
   "metadata": {},
   "outputs": [],
   "source": [
    "vacancy['created_at'] = pd.to_datetime(vacancy['created_at'])"
   ]
  },
  {
   "cell_type": "code",
   "execution_count": 14,
   "metadata": {
    "scrolled": true
   },
   "outputs": [],
   "source": [
    "vacancy['published_at'] = pd.to_datetime(vacancy['published_at'])"
   ]
  },
  {
   "cell_type": "markdown",
   "metadata": {},
   "source": [
    "# Постройте график опубликованных вакансий по датам"
   ]
  },
  {
   "cell_type": "code",
   "execution_count": 15,
   "metadata": {},
   "outputs": [
    {
     "data": {
      "text/plain": [
       "<AxesSubplot:xlabel='published_at'>"
      ]
     },
     "execution_count": 15,
     "metadata": {},
     "output_type": "execute_result"
    },
    {
     "data": {
      "image/png": "[encoded data removed]",
      "text/plain": [
       "<Figure size 1152x576 with 1 Axes>"
      ]
     },
     "metadata": {
      "needs_background": "light"
     },
     "output_type": "display_data"
    }
   ],
   "source": [
    "pd.DataFrame({'published_at': pd.to_datetime(vacancy['published_at']).dt.date, 'id': vacancy['id']})\\\n",
    "        .groupby('published_at').agg('count').plot(figsize=(16,8))"
   ]
  },
  {
   "cell_type": "markdown",
   "metadata": {},
   "source": [
    "# Переведите даты в дни недели, и определите день недели, в который больше всего публикуют вакансий"
   ]
  },
  {
   "cell_type": "code",
   "execution_count": 16,
   "metadata": {},
   "outputs": [
    {
     "data": {
      "text/plain": [
       "Monday       670\n",
       "Friday       351\n",
       "Wednesday    344\n",
       "Thursday     280\n",
       "Tuesday      258\n",
       "Sunday        48\n",
       "Saturday      27\n",
       "Name: published_at, dtype: int64"
      ]
     },
     "execution_count": 16,
     "metadata": {},
     "output_type": "execute_result"
    }
   ],
   "source": [
    "vacancy.published_at.dt.day_name().value_counts()\n",
    "# ответ - в понедельник больше всего публикаций вакансий"
   ]
  },
  {
   "cell_type": "markdown",
   "metadata": {},
   "source": [
    "# Найдите те вакансии с использованием python, которые вам интересны"
   ]
  },
  {
   "cell_type": "code",
   "execution_count": 19,
   "metadata": {},
   "outputs": [
    {
     "data": {
      "text/html": [
       "<div>\n",
       "<style scoped>\n",
       "    .dataframe tbody tr th:only-of-type {\n",
       "        vertical-align: middle;\n",
       "    }\n",
       "\n",
       "    .dataframe tbody tr th {\n",
       "        vertical-align: top;\n",
       "    }\n",
       "\n",
       "    .dataframe thead th {\n",
       "        text-align: right;\n",
       "    }\n",
       "</style>\n",
       "<table border=\"1\" class=\"dataframe\">\n",
       "  <thead>\n",
       "    <tr style=\"text-align: right;\">\n",
       "      <th></th>\n",
       "      <th>id</th>\n",
       "      <th>name</th>\n",
       "      <th>salary</th>\n",
       "      <th>experience</th>\n",
       "      <th>schedule</th>\n",
       "      <th>employment</th>\n",
       "      <th>description</th>\n",
       "      <th>key_skills</th>\n",
       "      <th>published_at</th>\n",
       "      <th>created_at</th>\n",
       "      <th>alternate_url</th>\n",
       "    </tr>\n",
       "  </thead>\n",
       "  <tbody>\n",
       "    <tr>\n",
       "      <th>43</th>\n",
       "      <td>49040470</td>\n",
       "      <td>Аналитик данных – разработчик Qlik</td>\n",
       "      <td>empty</td>\n",
       "      <td>От 1 года до 3 лет</td>\n",
       "      <td>Полный день</td>\n",
       "      <td>Полная занятость</td>\n",
       "      <td>&lt;p&gt;&lt;strong&gt;Обязанности:&lt;/strong&gt;&lt;/p&gt; &lt;ul&gt; &lt;li&gt;...</td>\n",
       "      <td>Hive,</td>\n",
       "      <td>2021-10-21 14:08:34+03:00</td>\n",
       "      <td>2021-10-21 14:08:34+03:00</td>\n",
       "      <td>https://hh.ru/vacancy/49040470</td>\n",
       "    </tr>\n",
       "    <tr>\n",
       "      <th>57</th>\n",
       "      <td>48915767</td>\n",
       "      <td>Аналитик по моделям</td>\n",
       "      <td>empty</td>\n",
       "      <td>От 3 до 6 лет</td>\n",
       "      <td>Полный день</td>\n",
       "      <td>Полная занятость</td>\n",
       "      <td>&lt;p&gt;&lt;strong&gt;Позиция Middle DS &amp;amp; Model Manag...</td>\n",
       "      <td>empty</td>\n",
       "      <td>2021-10-18 10:58:04+03:00</td>\n",
       "      <td>2021-10-18 10:58:04+03:00</td>\n",
       "      <td>https://hh.ru/vacancy/48915767</td>\n",
       "    </tr>\n",
       "    <tr>\n",
       "      <th>78</th>\n",
       "      <td>46465241</td>\n",
       "      <td>Главный системный аналитик аналитик (Реклама)</td>\n",
       "      <td>empty</td>\n",
       "      <td>От 3 до 6 лет</td>\n",
       "      <td>Полный день</td>\n",
       "      <td>Полная занятость</td>\n",
       "      <td>&lt;p&gt;Мы - новая быстрорастущая команда, создающа...</td>\n",
       "      <td>Atlassian Jira,</td>\n",
       "      <td>2021-10-22 14:45:07+03:00</td>\n",
       "      <td>2021-10-22 14:45:07+03:00</td>\n",
       "      <td>https://hh.ru/vacancy/46465241</td>\n",
       "    </tr>\n",
       "    <tr>\n",
       "      <th>148</th>\n",
       "      <td>49009043</td>\n",
       "      <td>Аналитик данных – разработчик Qlik</td>\n",
       "      <td>empty</td>\n",
       "      <td>От 1 года до 3 лет</td>\n",
       "      <td>Полный день</td>\n",
       "      <td>Полная занятость</td>\n",
       "      <td>&lt;p&gt;В &lt;strong&gt;команду&lt;/strong&gt; Аналитических се...</td>\n",
       "      <td>Визуализация данных,</td>\n",
       "      <td>2021-10-20 15:34:10+03:00</td>\n",
       "      <td>2021-10-20 15:34:10+03:00</td>\n",
       "      <td>https://hh.ru/vacancy/49009043</td>\n",
       "    </tr>\n",
       "    <tr>\n",
       "      <th>168</th>\n",
       "      <td>48501671</td>\n",
       "      <td>Data-аналитик в команду голосовых и текстовых ...</td>\n",
       "      <td>empty</td>\n",
       "      <td>От 1 года до 3 лет</td>\n",
       "      <td>Полный день</td>\n",
       "      <td>Полная занятость</td>\n",
       "      <td>&lt;p&gt;Мы ищем &lt;strong&gt;Data-аналитика &lt;/strong&gt;в к...</td>\n",
       "      <td>empty</td>\n",
       "      <td>2021-10-04 18:00:14+03:00</td>\n",
       "      <td>2021-10-04 18:00:14+03:00</td>\n",
       "      <td>https://hh.ru/vacancy/48501671</td>\n",
       "    </tr>\n",
       "  </tbody>\n",
       "</table>\n",
       "</div>"
      ],
      "text/plain": [
       "           id                                               name salary  \\\n",
       "43   49040470                 Аналитик данных – разработчик Qlik  empty   \n",
       "57   48915767                                Аналитик по моделям  empty   \n",
       "78   46465241      Главный системный аналитик аналитик (Реклама)  empty   \n",
       "148  49009043                 Аналитик данных – разработчик Qlik  empty   \n",
       "168  48501671  Data-аналитик в команду голосовых и текстовых ...  empty   \n",
       "\n",
       "             experience     schedule        employment  \\\n",
       "43   От 1 года до 3 лет  Полный день  Полная занятость   \n",
       "57        От 3 до 6 лет  Полный день  Полная занятость   \n",
       "78        От 3 до 6 лет  Полный день  Полная занятость   \n",
       "148  От 1 года до 3 лет  Полный день  Полная занятость   \n",
       "168  От 1 года до 3 лет  Полный день  Полная занятость   \n",
       "\n",
       "                                           description            key_skills  \\\n",
       "43   <p><strong>Обязанности:</strong></p> <ul> <li>...                 Hive,   \n",
       "57   <p><strong>Позиция Middle DS &amp; Model Manag...                 empty   \n",
       "78   <p>Мы - новая быстрорастущая команда, создающа...       Atlassian Jira,   \n",
       "148  <p>В <strong>команду</strong> Аналитических се...  Визуализация данных,   \n",
       "168  <p>Мы ищем <strong>Data-аналитика </strong>в к...                 empty   \n",
       "\n",
       "                 published_at                created_at  \\\n",
       "43  2021-10-21 14:08:34+03:00 2021-10-21 14:08:34+03:00   \n",
       "57  2021-10-18 10:58:04+03:00 2021-10-18 10:58:04+03:00   \n",
       "78  2021-10-22 14:45:07+03:00 2021-10-22 14:45:07+03:00   \n",
       "148 2021-10-20 15:34:10+03:00 2021-10-20 15:34:10+03:00   \n",
       "168 2021-10-04 18:00:14+03:00 2021-10-04 18:00:14+03:00   \n",
       "\n",
       "                      alternate_url  \n",
       "43   https://hh.ru/vacancy/49040470  \n",
       "57   https://hh.ru/vacancy/48915767  \n",
       "78   https://hh.ru/vacancy/46465241  \n",
       "148  https://hh.ru/vacancy/49009043  \n",
       "168  https://hh.ru/vacancy/48501671  "
      ]
     },
     "execution_count": 19,
     "metadata": {},
     "output_type": "execute_result"
    }
   ],
   "source": [
    "nice_vacs = vacancy[(vacancy['name'].str.contains('data analyst|аналитик данных|data аналитик|аналитик', case=False))&\\\n",
    "         (vacancy['description'].str.contains('python', case=False))]\n",
    "nice_vacs.head(5)"
   ]
  },
  {
   "cell_type": "markdown",
   "metadata": {},
   "source": [
    "# Определите по полю skills какие навыки больше всего востребованы для этих вакансий"
   ]
  },
  {
   "cell_type": "code",
   "execution_count": 20,
   "metadata": {},
   "outputs": [
    {
     "data": {
      "text/plain": [
       "Аналитическое мышление,            2\n",
       "Linux,                             2\n",
       "Teradata,                          2\n",
       "Atlassian Jira,                    2\n",
       "Hive,                              1\n",
       "Базы данных,                       1\n",
       "Spark,                             1\n",
       "Теория вероятностей,               1\n",
       "SQL,                               1\n",
       "Pandas,                            1\n",
       "Аналитика,                         1\n",
       "MS Visio,                          1\n",
       "Аналитические исследования,        1\n",
       "Разработка технических заданий,    1\n",
       "Визуализация данных,               1\n",
       "Google Analytics,                  1\n",
       "Data Analysis,                     1\n",
       "PostgreSQL,                        1\n",
       "Лендинг,                           1\n",
       "Java,                              1\n",
       "MS Paint,                          1\n",
       "методология,                       1\n",
       "Грамотность,                       1\n",
       "Qlik Sense,                        1\n",
       "Big Data,                          1\n",
       "Ad Hoc Analysis,                   1\n",
       "Power BI,                          1\n",
       "Анализ данных,                     1\n",
       "Работа с базами данных,            1\n",
       "Обучение и развитие,               1\n",
       "MS PowerPoint,                     1\n",
       "Name: key_skills, dtype: int64"
      ]
     },
     "execution_count": 20,
     "metadata": {},
     "output_type": "execute_result"
    }
   ],
   "source": [
    "nice_vacs[nice_vacs['key_skills'] != 'empty']['key_skills'].value_counts()\n",
    "# в выборке мало оказалось вакансий с заполненным 'key_skills'. Поскольку выборка небольшая видно без допинструментов:\n",
    "# работа с базой данных (в разных формулировках) - 4 упоминания, остальные не более 2-х повторений"
   ]
  },
  {
   "cell_type": "markdown",
   "metadata": {},
   "source": [
    "# Постройте график наиболее востребованных вакансий"
   ]
  },
  {
   "cell_type": "code",
   "execution_count": 21,
   "metadata": {},
   "outputs": [
    {
     "data": {
      "text/plain": [
       "<AxesSubplot:>"
      ]
     },
     "execution_count": 21,
     "metadata": {},
     "output_type": "execute_result"
    },
    {
     "data": {
      "image/png": "[encoded data removed]",
      "text/plain": [
       "<Figure size 1152x576 with 1 Axes>"
      ]
     },
     "metadata": {
      "needs_background": "light"
     },
     "output_type": "display_data"
    }
   ],
   "source": [
    "vacancy.name.value_counts().head(10).plot(kind='bar', figsize=(16,8))\n",
    "# Что же это выходит? Надо было в Java подававться? =)\n",
    "# Java разработчик встречается в четырёх вариантах написания и в сумме больше 40 вакансий!!!"
   ]
  }
 ],
 "metadata": {
  "kernelspec": {
   "display_name": "Python 3",
   "language": "python",
   "name": "python3"
  },
  "language_info": {
   "codemirror_mode": {
    "name": "ipython",
    "version": 3
   },
   "file_extension": ".py",
   "mimetype": "text/x-python",
   "name": "python",
   "nbconvert_exporter": "python",
   "pygments_lexer": "ipython3",
   "version": "3.8.8"
  }
 },
 "nbformat": 4,
 "nbformat_minor": 4
}
